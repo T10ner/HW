{
 "cells": [
  {
   "cell_type": "markdown",
   "id": "da83a046",
   "metadata": {},
   "source": [
    "### Proposal 1: The Role of Food in Social Interactions and Health Outcomes\n",
    "\n",
    "#### Research Question\n",
    "How does participation in social eating activities influence health outcomes and social connections among Canadians?\n",
    "\n",
    "#### Variables\n",
    "- **NUTRITION_social_eating_frequency_with_friends** (Categorical): Frequency of eating meals with friends.\n",
    "- **NUTRITION_canadian_food_intake_screener_frequency_vegetables** (Continuous): Frequency of vegetable intake as part of meals.\n",
    "- **WELLNESS_self_rated_physical_health** (Continuous): Participants' self-rated physical health.\n",
    "- **WELLNESS_self_rated_mental_health** (Continuous): Participants' self-rated mental health.\n",
    "- **CONNECTION_social_days_friends_p7d** (Continuous): Number of days per week participants spend with friends.\n",
    "\n",
    "#### Methodology\n",
    "- **Quantitative Analysis**: Implement multiple regression models to explore the impact of social eating frequencies on self-rated health outcomes.\n",
    "- **Qualitative Analysis**: Conduct participant surveys to capture qualitative insights on the perceived impacts of social eating on health and social cohesion.\n",
    "\n",
    "#### Visualization Strategies\n",
    "- **Heatmaps**: To illustrate the correlations between social eating frequencies, health outcomes, and social connectivity measures.\n",
    "- **Scatter Plots with Trend Lines**: To visually assess the relationships between the frequency of social meals and health indicators.\n",
    "\n",
    "#### Justification\n",
    "Exploring the intersection of social dining and health provides a unique lens on public health. This study aims to elucidate how communal eating may enhance physical and mental well-being through better nutrition and stronger social supports.\n",
    "\n",
    "#### Hypotheses\n",
    "- **Null Hypothesis (H0)**: There is no significant relationship between the frequency of social eating and health outcomes.\n",
    "- **Alternative Hypothesis (H1)**: Participants engaging more frequently in social eating report better physical and mental health, underscoring the combined benefits of enhanced nutrition and social support.\n",
    "\n",
    "#### Potential Impact\n",
    "This research could illuminate how routine social interactions like dining with others may double as preventive health measures, fostering both physical and social well-being. Insights derived could guide public health initiatives to integrate socializing into dietary recommendations, potentially leading to more holistic health improvement strategies."
   ]
  },
  {
   "cell_type": "markdown",
   "id": "c8e3aa9d",
   "metadata": {},
   "source": [
    "### Proposal 2: Investigating the Relationship Between Video Gaming and Social Connections\n",
    "\n",
    "#### Research Question\n",
    "How does video gaming influence social connections among players?\n",
    "\n",
    "#### Variables\n",
    "- **CONNECTION_activities_computer_games_p3m** (Categorical): Frequency of playing computer games over the past three months.\n",
    "- **CONNECTION_social_num_friends_p7d** (Continuous): Number of friends interacted with in the past week.\n",
    "- **CONNECTION_social_days_friends_p7d** (Continuous): Days interacting with friends in the past week.\n",
    "- **CONNECTION_social_media_time_per_day** (Continuous): Average time spent on social media per day.\n",
    "- **CONNECTION_social_num_close_friends** (Continuous): Number of close friendships.\n",
    "\n",
    "#### Methodology\n",
    "- **Quantitative Analysis**: Conduct regression analysis to determine how gaming frequency correlates with the quantity and quality of social interactions.\n",
    "- **Survey Analysis**: Employ surveys to collect detailed data on gamers' social habits and preferences.\n",
    "\n",
    "#### Visualization Strategies\n",
    "- **Bar Charts**: To display the distribution of gaming frequency and its correlation with the number of social interactions.\n",
    "- **Line Graphs**: To show trends over time in gaming habits and corresponding changes in social interaction metrics.\n",
    "\n",
    "#### Justification\n",
    "Video gaming is often stereotyped as a solitary activity, yet many gamers engage in rich social networks online and offline. This study seeks to explore how gaming affects social connections, potentially challenging common misconceptions and highlighting the social benefits of gaming.\n",
    "\n",
    "#### Hypotheses\n",
    "- **Null Hypothesis (H0)**: Video gaming frequency does not correlate with the number or quality of social connections.\n",
    "- **Alternative Hypothesis (H1)**: Higher frequency of video gaming is associated with greater and possibly more meaningful social interactions among gamers.\n",
    "\n",
    "#### Potential Impact\n",
    "This proposal aims to provide insights into the social dynamics of gaming, contributing to a more nuanced understanding of digital leisure activities and their role in social development. The findings could help inform policy and community design to foster social interaction within gaming communities, enhancing the well-being of participants."
   ]
  },
  {
   "cell_type": "markdown",
   "id": "21d42e0c",
   "metadata": {},
   "source": [
    "\n",
    "### Proposal 3: The Impact of Routine Tasks on Happiness\n",
    "\n",
    "#### Research Question\n",
    "How do routine and repetitive tasks in work and daily life impact the overall happiness of individuals?\n",
    "\n",
    "#### Variables\n",
    "- **WELLNESS_subjective_happiness_scale_happy** (continuous) - Assesses the overall happiness level on a scale.\n",
    "- **PSYCH_struk_short_boredom_proneness_scale_score** (continuous) - Measures an individual's susceptibility to boredom, potentially linked to repetitive tasks.\n",
    "- **WORK_shift_consistent_hours** (categorical) - Indicates whether work hours are consistent, implying routine tasks.\n",
    "- **LIFESTYLE_time_use_priorities_work_actual** and **LIFESTYLE_time_use_priorities_chores_actual** (continuous) - Assess the amount of time spent on work and chores, respectively.\n",
    "\n",
    "#### How to Explore\n",
    "- **Quantitative Analysis**: Conduct regression analysis to explore the relationship between the monotony of tasks (boredom proneness and hours spent on routine tasks) and happiness levels.\n",
    "- **Visualizations**:\n",
    "  - **Heatmaps** to show correlations between variables.\n",
    "  - **Bar charts** to compare average happiness levels across different levels of routine task engagement.\n",
    "\n",
    "#### Justification\n",
    "Understanding the impact of routine tasks on happiness could help in structuring more engaging and mentally stimulating environments, both at work and home. This could lead to recommendations for reducing boredom and enhancing personal satisfaction.\n",
    "\n",
    "#### Hypothesis\n",
    "- **Null Hypothesis (H0)**: Routine tasks have no significant impact on happiness levels.\n",
    "- **Alternative Hypothesis (H1)**: High engagement in routine tasks negatively impacts happiness levels, with more monotonous tasks associated with lower happiness.\n",
    "\n",
    "This approach would provide valuable insights into everyday activities' effects on mental health and could guide both individuals and organizations in enhancing life and work environments."
   ]
  },
  {
   "cell_type": "code",
   "execution_count": null,
   "id": "0faf3dae",
   "metadata": {},
   "outputs": [],
   "source": []
  }
 ],
 "metadata": {
  "kernelspec": {
   "display_name": "Python 3 (ipykernel)",
   "language": "python",
   "name": "python3"
  },
  "language_info": {
   "codemirror_mode": {
    "name": "ipython",
    "version": 3
   },
   "file_extension": ".py",
   "mimetype": "text/x-python",
   "name": "python",
   "nbconvert_exporter": "python",
   "pygments_lexer": "ipython3",
   "version": "3.11.6"
  }
 },
 "nbformat": 4,
 "nbformat_minor": 5
}
