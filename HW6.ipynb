{
 "cells": [
  {
   "cell_type": "markdown",
   "id": "c737d1f0",
   "metadata": {},
   "source": [
    "# HW6"
   ]
  },
  {
   "cell_type": "code",
   "execution_count": 1,
   "id": "5d06c79d",
   "metadata": {},
   "outputs": [],
   "source": [
    "https://chatgpt.com/share/672d874d-3f38-8012-8067-197115968e02"
   ]
  },
  {
   "cell_type": "markdown",
   "id": "032af364",
   "metadata": {},
   "source": [
    "# 3\n"
   ]
  },
  {
   "cell_type": "code",
   "execution_count": null,
   "id": "b4c9ac1f",
   "metadata": {},
   "outputs": [],
   "source": [
    "import numpy as np\n",
    "import pandas as pd\n",
    "import plotly.graph_objects as go\n",
    "import plotly.express as px\n",
    "from scipy.stats import norm, uniform\n",
    "import statsmodels.formula.api as smf\n",
    "\n",
    "n = 100\n",
    "beta0 = 2.0\n",
    "beta1 = 0.5\n",
    "sigma = 1.0\n",
    "\n",
    "x = uniform.rvs(size=n, loc=0, scale=10)\n",
    "epsilon = norm.rvs(size=n, loc=0, scale=sigma)\n",
    "y = beta0 + beta1 * x + epsilon\n",
    "\n",
    "df = pd.DataFrame({'x': x, 'Y': y})\n",
    "\n",
    "fig = go.Figure()\n",
    "fig.add_trace(go.Scatter(x=x, y=y, mode='markers', name='Data'))\n",
    "x_range = np.linspace(x.min(), x.max(), 100)\n",
    "y_line = beta0 + beta1 * x_range\n",
    "fig.add_trace(go.Scatter(x=x_range, y=y_line, mode='lines', name='Theoretical Line', line=dict(dash='dot', color='orange')))\n",
    "fig.update_layout(title='Theoretical Simple Linear Regression Model', xaxis_title='x', yaxis_title='Y')\n",
    "fig.show(renderer=\"png\")\n",
    "\n",
    "model_data_specification = smf.ols(\"Y ~ x\", data=df)\n",
    "fitted_model = model_data_specification.fit()\n",
    "\n",
    "print(fitted_model.summary())\n",
    "print(f\"Fitted Parameters: {fitted_model.params}\")\n",
    "print(f\"R-squared: {fitted_model.rsquared}\")\n",
    "\n",
    "df['Data'] = 'Data'\n",
    "fig = px.scatter(df, x='x', y='Y', color='Data', trendline='ols', title='Fitted Simple Linear Regression Model')\n",
    "fig.show(renderer=\"png\")\n",
    "\n",
    "x_range = np.array([df['x'].min(), df['x'].max()])\n",
    "y_line = beta0 + beta1 * x_range\n",
    "fig.add_scatter(x=x_range, y=y_line, mode='lines', name=f\"{beta0} + {beta1} * x\", line=dict(dash='dot', color='orange'))\n",
    "fig.show(renderer=\"png\")\n"
   ]
  },
  {
   "cell_type": "markdown",
   "id": "4ab3133c",
   "metadata": {},
   "source": [
    "### Key Difference Between the Lines\n",
    "\n",
    "The **theoretical line** reflects the idealized relationship between $X$ and $Y$ as specified by our chosen model parameters $ \\beta_0 $ and $ \\beta_1 $, without any random sampling variation. This line doesn’t change across different samples because it represents the model we defined initially.\n",
    "\n",
    "The **fitted line**, however, is calculated from the observed data, which includes random error terms. As a result, this line is influenced by the particular random sample of errors generated when creating the dataset. If we were to generate a new dataset with different random errors, the fitted line would likely change, even though the theoretical line would remain the same.\n"
   ]
  },
  {
   "cell_type": "markdown",
   "id": "eefad2eb",
   "metadata": {},
   "source": [
    "# 4\n"
   ]
  },
  {
   "cell_type": "markdown",
   "id": "2b78bfae",
   "metadata": {},
   "source": [
    "The **fitted values** in `fitted_model.fittedvalues` are calculated using the estimated parameters $ \\hat{\\beta}_0 $ (intercept) and $ \\hat{\\beta}_1 $ (slope), which are found in `fitted_model.params`. Each fitted value $ \\hat{y}_i $ is given by:\n",
    "\n",
    "$ \\hat{y}_i = \\hat{\\beta}_0 + \\hat{\\beta}_1 x_i $\n",
    "\n",
    "where $ x_i $ is the predictor for each observation.\n",
    "\n",
    "### Code Example\n",
    "To manually calculate these fitted values:\n",
    "\n",
    "```python\n",
    "# Manually calculate the fitted values using estimated parameters\n",
    "beta_hat_0 = fitted_model.params[0]\n",
    "beta_hat_1 = fitted_model.params[1]\n",
    "fitted_values_manual = beta_hat_0 + beta_hat_1 * df['x']\n",
    "\n",
    "# Verify they match fitted_model.fittedvalues\n",
    "print(fitted_values_manual.head())\n",
    "print(fitted_model.fittedvalues.head())\n"
   ]
  },
  {
   "cell_type": "markdown",
   "id": "405d6af5",
   "metadata": {},
   "source": [
    "# 9\n",
    "\n"
   ]
  },
  {
   "cell_type": "code",
   "execution_count": null,
   "id": "adb16e21",
   "metadata": {},
   "outputs": [],
   "source": [
    "import seaborn as sns\n",
    "import statsmodels.formula.api as smf\n",
    "\n",
    "# Load the Old Faithful Geyser dataset\n",
    "old_faithful = sns.load_dataset('geyser')\n",
    "\n",
    "# Specify the linear model for duration ~ waiting\n",
    "model = smf.ols('duration ~ waiting', data=old_faithful)\n",
    "fitted_model = model.fit()\n",
    "\n",
    "# Display the summary of the fitted model\n",
    "fitted_model.summary()\n",
    "\n",
    "\n",
    "\n",
    "\n",
    "import plotly.express as px\n",
    "\n",
    "for short_wait_limit in [62, 64, 66]:\n",
    "    short_wait = old_faithful['waiting'] < short_wait_limit\n",
    "    model = smf.ols('duration ~ waiting', data=old_faithful[short_wait])\n",
    "    fitted_model = model.fit()\n",
    "    \n",
    "    # Display the summary of the fitted model\n",
    "    print(f\"Summary for short wait limit < {short_wait_limit}\")\n",
    "    print(fitted_model.summary().tables[1])\n",
    "    \n",
    "    # Scatter plot with a linear regression trendline\n",
    "    fig = px.scatter(old_faithful[short_wait], x='waiting', y='duration',\n",
    "                     title=f\"Old Faithful Geyser Eruptions for short wait times (<{short_wait_limit})\", \n",
    "                     trendline='ols')\n",
    "    fig.show(renderer=\"png\")  # Use for GitHub and MarkUs submissions\n"
   ]
  },
  {
   "cell_type": "markdown",
   "id": "be3030b7",
   "metadata": {},
   "source": [
    "Based on the summaries for each short wait limit, here’s an interpretation of the results:\n",
    "\n",
    "1. **Short Wait Limit < 62**:\n",
    "   - **Coefficient for `waiting`**: 0.0069\n",
    "   - **p-value**: 0.238 (greater than 0.05)\n",
    "   - **Interpretation**: At a significance level of 0.05, we fail to reject the null hypothesis, suggesting no significant linear association between `waiting` and `duration` for short wait times under 62 minutes.\n",
    "\n",
    "2. **Short Wait Limit < 64**:\n",
    "   - **Coefficient for `waiting`**: 0.0114\n",
    "   - **p-value**: 0.036 (less than 0.05)\n",
    "   - **Interpretation**: At a significance level of 0.05, we reject the null hypothesis, indicating a statistically significant association between `waiting` and `duration` for short wait times under 64 minutes. This suggests that `waiting` time slightly influences `duration` within this range.\n",
    "\n",
    "3. **Short Wait Limit < 66**:\n",
    "   - **Coefficient for `waiting`**: 0.0221\n",
    "   - **p-value**: 0.000 (well below 0.05)\n",
    "   - **Interpretation**: At a significance level of 0.05, we strongly reject the null hypothesis, showing clear evidence of a linear association between `waiting` and `duration` for short wait times under 66 minutes. The relationship between `waiting` time and `duration` strengthens as we increase the limit.\n",
    "\n",
    "### Conclusion\n",
    "For short wait limits of 64 and 66 minutes, there is evidence of a positive linear relationship between `waiting` and `duration`. However, for wait times under 62 minutes, the relationship is not statistically significant. This indicates that the influence of waiting time on eruption duration becomes more apparent as the wait time threshold increases."
   ]
  },
  {
   "cell_type": "markdown",
   "id": "3206fa6d",
   "metadata": {},
   "source": [
    "# 11"
   ]
  },
  {
   "cell_type": "code",
   "execution_count": null,
   "id": "8fc9b5cb",
   "metadata": {},
   "outputs": [],
   "source": [
    "import statsmodels.formula.api as smf\n",
    "import plotly.express as px\n",
    "from IPython.display import display\n",
    "\n",
    "# Divide wait times into \"short\" and \"long\" based on a threshold of 68 minutes\n",
    "old_faithful['kind'] = old_faithful['waiting'].apply(lambda x: 'long' if x >= 68 else 'short')\n",
    "\n",
    "# Fit the Simple Linear Regression model with the indicator variable\n",
    "indicator_model = smf.ols('duration ~ C(kind, Treatment(reference=\"short\"))', data=old_faithful).fit()\n",
    "\n",
    "# Display the model summary for evidence against the null hypothesis (no difference between groups)\n",
    "display(indicator_model.summary().tables[1])\n",
    "\n",
    "# Visualize the data distribution of duration by kind\n",
    "fig = px.box(old_faithful, x='kind', y='duration', \n",
    "             title='duration ~ kind',\n",
    "             category_orders={'kind': ['short', 'long']})\n",
    "fig.show(renderer=\"png\")\n"
   ]
  },
  {
   "cell_type": "markdown",
   "id": "869dc080",
   "metadata": {},
   "source": [
    "Based on the output you provided, here’s a concise interpretation of the results for **Question 11**:\n",
    "\n",
    "### Interpretation of Results\n",
    "\n",
    "1. **Intercept (Short Wait Times)**:\n",
    "   - **Coefficient**: 2.0943\n",
    "   - This is the estimated mean duration (in minutes) for geyser eruptions following a \"short\" wait time (less than 68 minutes).\n",
    "   \n",
    "2. **C(kind, Treatment(reference=\"short\"))[T.long] (Difference for Long Wait Times)**:\n",
    "   - **Coefficient**: 2.2036\n",
    "   - This represents the additional duration (in minutes) for eruptions following a \"long\" wait time (68 minutes or more), compared to \"short\" wait times.\n",
    "   - **Interpretation**: Since the coefficient is positive, \"long\" wait times are associated with significantly longer eruption durations than \"short\" wait times, with an average increase of 2.2036 minutes.\n",
    "\n",
    "3. **Statistical Significance**:\n",
    "   - **p-value**: 0.000 (for both coefficients), which is well below 0.05.\n",
    "   - **Conclusion**: We reject the null hypothesis of \"no difference between groups on average.\" There is strong evidence that eruption duration differs significantly between \"short\" and \"long\" wait times.\n",
    "\n",
    "### Summary\n",
    "\n",
    "This indicator variable model suggests a clear distinction between the durations following \"short\" and \"long\" waits, with \"long\" waits leading to longer eruptions on average by about 2.2 minutes. This finding supports a categorical approach to analyzing the relationship between wait time and eruption duration, contrasting with the previous linear models that used a continuous predictor."
   ]
  },
  {
   "cell_type": "code",
   "execution_count": null,
   "id": "08d28bbb",
   "metadata": {},
   "outputs": [],
   "source": []
  }
 ],
 "metadata": {
  "kernelspec": {
   "display_name": "Python 3 (ipykernel)",
   "language": "python",
   "name": "python3"
  },
  "language_info": {
   "codemirror_mode": {
    "name": "ipython",
    "version": 3
   },
   "file_extension": ".py",
   "mimetype": "text/x-python",
   "name": "python",
   "nbconvert_exporter": "python",
   "pygments_lexer": "ipython3",
   "version": "3.11.6"
  }
 },
 "nbformat": 4,
 "nbformat_minor": 5
}
