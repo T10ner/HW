{
 "cells": [
  {
   "cell_type": "code",
   "execution_count": 2,
   "id": "2147399a",
   "metadata": {},
   "outputs": [
    {
     "data": {
      "text/plain": [
       "0.6666"
      ]
     },
     "execution_count": 2,
     "metadata": {},
     "output_type": "execute_result"
    }
   ],
   "source": [
    "import numpy as np\n",
    "\n",
    "all_doors = [1, 2, 3]\n",
    "wins = 0\n",
    "trials = 100000\n",
    "\n",
    "for _ in range(trials):\n",
    "    winning_door = np.random.choice(all_doors)\n",
    "    player_choice = np.random.choice(all_doors)\n",
    "    \n",
    "    # Host reveals a door that is not the player's choice or the winning door\n",
    "    goat_door = next(door for door in all_doors if door != player_choice and door != winning_door)\n",
    "    \n",
    "    # Switch the player's choice to the remaining unopened door\n",
    "    switched_choice = next(door for door in all_doors if door != player_choice and door != goat_door)\n",
    "    \n",
    "    # Increment the win count if the switched door is the winning door\n",
    "    if switched_choice == winning_door:\n",
    "        wins += 1\n",
    "\n",
    "# Output the fraction of wins by switching\n",
    "win_rate = wins / trials\n",
    "win_rate\n",
    "\n"
   ]
  },
  {
   "cell_type": "code",
   "execution_count": null,
   "id": "fce3644a",
   "metadata": {},
   "outputs": [],
   "source": [
    "# This ChatBot session involved refining the Monty Hall simulation code for clarity and readability. The ChatBot suggested improvements \n",
    "# to streamline the code, particularly by using list comprehensions and the next() function to simplify door selection and switching logic.\n",
    "# The code was verified to run and produced the expected result: a win rate close to 66.7% when the player switches doors. The session\n",
    "# included detailed explanations and comments for each part of the code."
   ]
  },
  {
   "cell_type": "code",
   "execution_count": null,
   "id": "b1b6b76d",
   "metadata": {},
   "outputs": [],
   "source": [
    "# The ChatBot was very quick and effective in helping me break down and understand the original Monte Hall code.\n",
    "# And it does sometimes frustrating and unhelpful \n",
    "# I would say it is helpful for explaining the basic code of definition but if the project comes more complex it would be unhelpful.\n"
   ]
  },
  {
   "cell_type": "code",
   "execution_count": null,
   "id": "275d705a",
   "metadata": {},
   "outputs": [],
   "source": [
    "# My perception of AI-driven assistance is that they are valuable tools in my learning process. However, complex projects still\n",
    "# present challenges where the AI might not offer correct solution.\n"
   ]
  },
  {
   "cell_type": "code",
   "execution_count": null,
   "id": "b0c3409d",
   "metadata": {},
   "outputs": [],
   "source": [
    "https://chatgpt.com/share/66ec9fca-91d4-8012-88bd-7d83ba173547"
   ]
  }
 ],
 "metadata": {
  "kernelspec": {
   "display_name": "Python 3 (ipykernel)",
   "language": "python",
   "name": "python3"
  },
  "language_info": {
   "codemirror_mode": {
    "name": "ipython",
    "version": 3
   },
   "file_extension": ".py",
   "mimetype": "text/x-python",
   "name": "python",
   "nbconvert_exporter": "python",
   "pygments_lexer": "ipython3",
   "version": "3.11.6"
  }
 },
 "nbformat": 4,
 "nbformat_minor": 5
}
